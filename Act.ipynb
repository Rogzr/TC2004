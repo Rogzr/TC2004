{
 "cells": [
  {
   "cell_type": "code",
   "execution_count": 1,
   "id": "e2e30b25-ed08-46d0-8506-2d9386b54a02",
   "metadata": {},
   "outputs": [],
   "source": [
    "#Rodrigo Gonzalez Zermeño | A00572213"
   ]
  },
  {
   "cell_type": "code",
   "execution_count": 12,
   "id": "fe337618-8da8-419f-81de-269be4e94f47",
   "metadata": {},
   "outputs": [
    {
     "name": "stdin",
     "output_type": "stream",
     "text": [
      "Ingresa un número entero 5\n"
     ]
    },
    {
     "name": "stdout",
     "output_type": "stream",
     "text": [
      "Factorial de  5  es  120\n"
     ]
    }
   ],
   "source": [
    "def fact(n): \n",
    "    if n < 0: \n",
    "        print(\"No existen factoriales negativos\")\n",
    "\n",
    "    elif n == 0: \n",
    "        return 1\n",
    "        \n",
    "    else: \n",
    "        fact = 1\n",
    "        while(n > 1): \n",
    "            fact *= n \n",
    "            n -= 1\n",
    "        return fact \n",
    "\n",
    "n=int(input(\"Ingresa un número entero\"))\n",
    "\n",
    "\n",
    "print(\"Factorial de \",n,\" es \", fact(n))"
   ]
  },
  {
   "cell_type": "code",
   "execution_count": 22,
   "id": "ec965ed1-c674-4f93-b33c-fa555061c83a",
   "metadata": {},
   "outputs": [
    {
     "name": "stdin",
     "output_type": "stream",
     "text": [
      "Ingresa un número decimal 15\n"
     ]
    },
    {
     "name": "stdout",
     "output_type": "stream",
     "text": [
      "En binario es  1111\n"
     ]
    }
   ],
   "source": [
    "n=int(input(\"Ingresa un número decimal\"))\n",
    "b = bin(n)[2:]\n",
    "print(\"En binario es \",b)"
   ]
  },
  {
   "cell_type": "code",
   "execution_count": 24,
   "id": "ad553989-b82c-42b7-8199-6faaec90acaa",
   "metadata": {},
   "outputs": [
    {
     "ename": "SyntaxError",
     "evalue": "invalid syntax (2830201818.py, line 1)",
     "output_type": "error",
     "traceback": [
      "\u001b[0;36m  Input \u001b[0;32mIn [24]\u001b[0;36m\u001b[0m\n\u001b[0;31m    git init\u001b[0m\n\u001b[0m        ^\u001b[0m\n\u001b[0;31mSyntaxError\u001b[0m\u001b[0;31m:\u001b[0m invalid syntax\n"
     ]
    }
   ],
   "source": []
  },
  {
   "cell_type": "code",
   "execution_count": null,
   "id": "97c75184-fae1-40e7-a406-74a0351f2190",
   "metadata": {},
   "outputs": [],
   "source": []
  }
 ],
 "metadata": {
  "kernelspec": {
   "display_name": "anaconda-2022.05-py39",
   "language": "python",
   "name": "conda-env-anaconda-2022.05-py39-py"
  },
  "language_info": {
   "codemirror_mode": {
    "name": "ipython",
    "version": 3
   },
   "file_extension": ".py",
   "mimetype": "text/x-python",
   "name": "python",
   "nbconvert_exporter": "python",
   "pygments_lexer": "ipython3",
   "version": "3.9.12"
  }
 },
 "nbformat": 4,
 "nbformat_minor": 5
}
